{
  "nbformat": 4,
  "nbformat_minor": 0,
  "metadata": {
    "colab": {
      "provenance": [],
      "authorship_tag": "ABX9TyOC0JwArn4hJlU5WfuTAWFv",
      "include_colab_link": true
    },
    "kernelspec": {
      "name": "python3",
      "display_name": "Python 3"
    },
    "language_info": {
      "name": "python"
    }
  },
  "cells": [
    {
      "cell_type": "markdown",
      "metadata": {
        "id": "view-in-github",
        "colab_type": "text"
      },
      "source": [
        "<a href=\"https://colab.research.google.com/github/DivakaranK/MachineLearning/blob/main/heart_disease_RandomForest.ipynb\" target=\"_parent\"><img src=\"https://colab.research.google.com/assets/colab-badge.svg\" alt=\"Open In Colab\"/></a>"
      ]
    },
    {
      "cell_type": "markdown",
      "source": [
        "# Import Libraries"
      ],
      "metadata": {
        "id": "rG3W_FfM2ZLp"
      }
    },
    {
      "cell_type": "code",
      "execution_count": 9,
      "metadata": {
        "id": "aB5hPW3g2XAP"
      },
      "outputs": [],
      "source": [
        "import pandas as pd\n",
        "import numpy as np\n",
        "import matplotlib.pyplot as plt\n",
        "from sklearn.model_selection import train_test_split\n",
        "from sklearn.preprocessing import MinMaxScaler\n",
        "from sklearn.ensemble import RandomForestClassifier\n",
        "from sklearn.metrics import confusion_matrix, accuracy_score"
      ]
    },
    {
      "cell_type": "markdown",
      "source": [
        "# Import dataset and Spliting into train and test"
      ],
      "metadata": {
        "id": "iISzMSva3Oc0"
      }
    },
    {
      "cell_type": "code",
      "source": [
        "dataset = pd.read_csv(\"heart-disease.csv\")\n",
        "  "
      ],
      "metadata": {
        "id": "8DpSJQHw3O6I"
      },
      "execution_count": 3,
      "outputs": []
    },
    {
      "cell_type": "code",
      "source": [
        "x = dataset.iloc[:,:-1].values\n",
        "y = dataset.iloc[:,-1].values"
      ],
      "metadata": {
        "id": "T17ePtPf3QGN"
      },
      "execution_count": 4,
      "outputs": []
    },
    {
      "cell_type": "code",
      "source": [
        "x_train, x_test, y_train, y_test = train_test_split(x, y, random_state=0, test_size=0.2)\n",
        "y_train"
      ],
      "metadata": {
        "colab": {
          "base_uri": "https://localhost:8080/"
        },
        "id": "iiPrVQOJ39cd",
        "outputId": "a0abbfc0-7437-4903-b631-fe79a5e02230"
      },
      "execution_count": 5,
      "outputs": [
        {
          "output_type": "execute_result",
          "data": {
            "text/plain": [
              "array([1, 1, 1, 0, 0, 0, 0, 1, 1, 1, 1, 1, 0, 0, 1, 0, 0, 1, 1, 0, 0, 0,\n",
              "       1, 0, 0, 0, 0, 1, 0, 0, 1, 1, 0, 1, 1, 0, 0, 1, 0, 0, 1, 0, 1, 0,\n",
              "       0, 0, 1, 1, 1, 0, 0, 0, 0, 1, 0, 1, 1, 1, 0, 1, 1, 1, 0, 1, 1, 1,\n",
              "       1, 1, 1, 1, 0, 0, 1, 1, 0, 1, 1, 0, 0, 0, 0, 1, 0, 1, 1, 0, 1, 1,\n",
              "       1, 1, 1, 1, 0, 0, 1, 0, 0, 0, 1, 1, 1, 0, 1, 0, 1, 1, 0, 1, 1, 1,\n",
              "       1, 1, 0, 0, 1, 0, 1, 0, 0, 1, 0, 0, 1, 1, 1, 0, 0, 1, 1, 0, 1, 0,\n",
              "       1, 0, 1, 1, 0, 1, 1, 1, 0, 1, 0, 0, 0, 1, 1, 1, 1, 0, 1, 0, 1, 0,\n",
              "       1, 1, 1, 0, 1, 0, 1, 0, 0, 0, 1, 1, 0, 1, 0, 1, 1, 0, 0, 1, 0, 1,\n",
              "       1, 0, 1, 1, 1, 1, 1, 0, 0, 1, 1, 1, 0, 0, 1, 1, 1, 1, 1, 0, 1, 1,\n",
              "       0, 1, 1, 0, 1, 1, 0, 0, 1, 1, 1, 0, 0, 0, 1, 0, 0, 1, 0, 0, 1, 0,\n",
              "       1, 1, 0, 0, 0, 0, 1, 0, 1, 1, 1, 0, 0, 0, 0, 1, 0, 0, 0, 1, 1, 0])"
            ]
          },
          "metadata": {},
          "execution_count": 5
        }
      ]
    },
    {
      "cell_type": "markdown",
      "source": [
        "# Feature Sclaing"
      ],
      "metadata": {
        "id": "ov8d1LJb3Pz2"
      }
    },
    {
      "cell_type": "code",
      "source": [
        "mms = MinMaxScaler()\n",
        "x_train = mms.fit_transform(x_train)\n",
        "x_test = mms.fit_transform(x_test)\n",
        "x_train"
      ],
      "metadata": {
        "colab": {
          "base_uri": "https://localhost:8080/"
        },
        "id": "qwnRLvmA6Z6k",
        "outputId": "ab347a72-4e2a-4e10-b0e9-70ef16eb9075"
      },
      "execution_count": 6,
      "outputs": [
        {
          "output_type": "execute_result",
          "data": {
            "text/plain": [
              "array([[0.29166667, 0.        , 0.66666667, ..., 0.5       , 0.        ,\n",
              "        0.66666667],\n",
              "       [0.77083333, 0.        , 0.66666667, ..., 0.5       , 0.25      ,\n",
              "        0.66666667],\n",
              "       [0.60416667, 1.        , 0.66666667, ..., 1.        , 0.        ,\n",
              "        0.66666667],\n",
              "       ...,\n",
              "       [0.5625    , 1.        , 1.        , ..., 0.5       , 0.        ,\n",
              "        1.        ],\n",
              "       [0.375     , 1.        , 0.66666667, ..., 1.        , 0.        ,\n",
              "        0.66666667],\n",
              "       [0.60416667, 1.        , 0.33333333, ..., 0.5       , 0.        ,\n",
              "        0.66666667]])"
            ]
          },
          "metadata": {},
          "execution_count": 6
        }
      ]
    },
    {
      "cell_type": "code",
      "source": [],
      "metadata": {
        "id": "GpvdRMjm6oWz"
      },
      "execution_count": null,
      "outputs": []
    },
    {
      "cell_type": "markdown",
      "source": [
        "# Training the model with the training set"
      ],
      "metadata": {
        "id": "m4NsC9qV6oLw"
      }
    },
    {
      "cell_type": "code",
      "source": [
        "classifier = RandomForestClassifier(n_estimators=100, criterion='gini', random_state=0)\n",
        "classifier.fit(x_train, y_train)"
      ],
      "metadata": {
        "colab": {
          "base_uri": "https://localhost:8080/",
          "height": 75
        },
        "id": "j5FHYnpr6pp5",
        "outputId": "3877a7a4-d5ab-4570-e38b-f423bfd89de9"
      },
      "execution_count": 39,
      "outputs": [
        {
          "output_type": "execute_result",
          "data": {
            "text/plain": [
              "RandomForestClassifier(random_state=0)"
            ],
            "text/html": [
              "<style>#sk-container-id-8 {color: black;background-color: white;}#sk-container-id-8 pre{padding: 0;}#sk-container-id-8 div.sk-toggleable {background-color: white;}#sk-container-id-8 label.sk-toggleable__label {cursor: pointer;display: block;width: 100%;margin-bottom: 0;padding: 0.3em;box-sizing: border-box;text-align: center;}#sk-container-id-8 label.sk-toggleable__label-arrow:before {content: \"▸\";float: left;margin-right: 0.25em;color: #696969;}#sk-container-id-8 label.sk-toggleable__label-arrow:hover:before {color: black;}#sk-container-id-8 div.sk-estimator:hover label.sk-toggleable__label-arrow:before {color: black;}#sk-container-id-8 div.sk-toggleable__content {max-height: 0;max-width: 0;overflow: hidden;text-align: left;background-color: #f0f8ff;}#sk-container-id-8 div.sk-toggleable__content pre {margin: 0.2em;color: black;border-radius: 0.25em;background-color: #f0f8ff;}#sk-container-id-8 input.sk-toggleable__control:checked~div.sk-toggleable__content {max-height: 200px;max-width: 100%;overflow: auto;}#sk-container-id-8 input.sk-toggleable__control:checked~label.sk-toggleable__label-arrow:before {content: \"▾\";}#sk-container-id-8 div.sk-estimator input.sk-toggleable__control:checked~label.sk-toggleable__label {background-color: #d4ebff;}#sk-container-id-8 div.sk-label input.sk-toggleable__control:checked~label.sk-toggleable__label {background-color: #d4ebff;}#sk-container-id-8 input.sk-hidden--visually {border: 0;clip: rect(1px 1px 1px 1px);clip: rect(1px, 1px, 1px, 1px);height: 1px;margin: -1px;overflow: hidden;padding: 0;position: absolute;width: 1px;}#sk-container-id-8 div.sk-estimator {font-family: monospace;background-color: #f0f8ff;border: 1px dotted black;border-radius: 0.25em;box-sizing: border-box;margin-bottom: 0.5em;}#sk-container-id-8 div.sk-estimator:hover {background-color: #d4ebff;}#sk-container-id-8 div.sk-parallel-item::after {content: \"\";width: 100%;border-bottom: 1px solid gray;flex-grow: 1;}#sk-container-id-8 div.sk-label:hover label.sk-toggleable__label {background-color: #d4ebff;}#sk-container-id-8 div.sk-serial::before {content: \"\";position: absolute;border-left: 1px solid gray;box-sizing: border-box;top: 0;bottom: 0;left: 50%;z-index: 0;}#sk-container-id-8 div.sk-serial {display: flex;flex-direction: column;align-items: center;background-color: white;padding-right: 0.2em;padding-left: 0.2em;position: relative;}#sk-container-id-8 div.sk-item {position: relative;z-index: 1;}#sk-container-id-8 div.sk-parallel {display: flex;align-items: stretch;justify-content: center;background-color: white;position: relative;}#sk-container-id-8 div.sk-item::before, #sk-container-id-8 div.sk-parallel-item::before {content: \"\";position: absolute;border-left: 1px solid gray;box-sizing: border-box;top: 0;bottom: 0;left: 50%;z-index: -1;}#sk-container-id-8 div.sk-parallel-item {display: flex;flex-direction: column;z-index: 1;position: relative;background-color: white;}#sk-container-id-8 div.sk-parallel-item:first-child::after {align-self: flex-end;width: 50%;}#sk-container-id-8 div.sk-parallel-item:last-child::after {align-self: flex-start;width: 50%;}#sk-container-id-8 div.sk-parallel-item:only-child::after {width: 0;}#sk-container-id-8 div.sk-dashed-wrapped {border: 1px dashed gray;margin: 0 0.4em 0.5em 0.4em;box-sizing: border-box;padding-bottom: 0.4em;background-color: white;}#sk-container-id-8 div.sk-label label {font-family: monospace;font-weight: bold;display: inline-block;line-height: 1.2em;}#sk-container-id-8 div.sk-label-container {text-align: center;}#sk-container-id-8 div.sk-container {/* jupyter's `normalize.less` sets `[hidden] { display: none; }` but bootstrap.min.css set `[hidden] { display: none !important; }` so we also need the `!important` here to be able to override the default hidden behavior on the sphinx rendered scikit-learn.org. See: https://github.com/scikit-learn/scikit-learn/issues/21755 */display: inline-block !important;position: relative;}#sk-container-id-8 div.sk-text-repr-fallback {display: none;}</style><div id=\"sk-container-id-8\" class=\"sk-top-container\"><div class=\"sk-text-repr-fallback\"><pre>RandomForestClassifier(random_state=0)</pre><b>In a Jupyter environment, please rerun this cell to show the HTML representation or trust the notebook. <br />On GitHub, the HTML representation is unable to render, please try loading this page with nbviewer.org.</b></div><div class=\"sk-container\" hidden><div class=\"sk-item\"><div class=\"sk-estimator sk-toggleable\"><input class=\"sk-toggleable__control sk-hidden--visually\" id=\"sk-estimator-id-8\" type=\"checkbox\" checked><label for=\"sk-estimator-id-8\" class=\"sk-toggleable__label sk-toggleable__label-arrow\">RandomForestClassifier</label><div class=\"sk-toggleable__content\"><pre>RandomForestClassifier(random_state=0)</pre></div></div></div></div></div>"
            ]
          },
          "metadata": {},
          "execution_count": 39
        }
      ]
    },
    {
      "cell_type": "code",
      "source": [],
      "metadata": {
        "id": "txrI33YH7Bn-"
      },
      "execution_count": null,
      "outputs": []
    },
    {
      "cell_type": "markdown",
      "source": [
        "# Prediction"
      ],
      "metadata": {
        "id": "Atl09KCT7CdO"
      }
    },
    {
      "cell_type": "code",
      "source": [
        "y_pred = classifier.predict(x_test)"
      ],
      "metadata": {
        "id": "fF5e93og7C7d"
      },
      "execution_count": 40,
      "outputs": []
    },
    {
      "cell_type": "markdown",
      "source": [
        "# Evaluation Metrics"
      ],
      "metadata": {
        "id": "1PCyeOPo7RME"
      }
    },
    {
      "cell_type": "code",
      "source": [
        "print(accuracy_score(y_test,y_pred))\n",
        "\n",
        "#0.8688524590163934 - 100 est and gini criterion"
      ],
      "metadata": {
        "colab": {
          "base_uri": "https://localhost:8080/"
        },
        "id": "Xua36Hdn7Rfn",
        "outputId": "0a2ffa39-0c72-4147-d586-8c00fc17aafb"
      },
      "execution_count": 41,
      "outputs": [
        {
          "output_type": "stream",
          "name": "stdout",
          "text": [
            "0.8688524590163934\n"
          ]
        }
      ]
    },
    {
      "cell_type": "markdown",
      "source": [
        "# Different paramters"
      ],
      "metadata": {
        "id": "8GOhkyeWFKUm"
      }
    },
    {
      "cell_type": "code",
      "source": [
        "acc_sc = []\n",
        "for i in range(2,200):\n",
        "  classifier = RandomForestClassifier(n_estimators=i, random_state=0, criterion='gini')\n",
        "  classifier.fit(x_train, y_train)\n",
        "  y_pred_ = classifier.predict(x_test)\n",
        "  acc_sc.append(str(accuracy_score(y_test,y_pred_)))\n",
        "\n",
        "# print(acc_sc)"
      ],
      "metadata": {
        "id": "gn--_4M_FNdA"
      },
      "execution_count": 42,
      "outputs": []
    },
    {
      "cell_type": "code",
      "source": [
        "acc_sc"
      ],
      "metadata": {
        "colab": {
          "base_uri": "https://localhost:8080/"
        },
        "id": "c0OxJqV8HXjs",
        "outputId": "9d91eb0a-01ed-4465-cedc-7915ef794fae"
      },
      "execution_count": 43,
      "outputs": [
        {
          "output_type": "execute_result",
          "data": {
            "text/plain": [
              "['0.6065573770491803',\n",
              " '0.7213114754098361',\n",
              " '0.7377049180327869',\n",
              " '0.8688524590163934',\n",
              " '0.819672131147541',\n",
              " '0.8360655737704918',\n",
              " '0.7868852459016393',\n",
              " '0.8524590163934426',\n",
              " '0.8360655737704918',\n",
              " '0.8524590163934426',\n",
              " '0.8524590163934426',\n",
              " '0.8524590163934426',\n",
              " '0.8524590163934426',\n",
              " '0.8524590163934426',\n",
              " '0.8360655737704918',\n",
              " '0.8524590163934426',\n",
              " '0.819672131147541',\n",
              " '0.819672131147541',\n",
              " '0.819672131147541',\n",
              " '0.8032786885245902',\n",
              " '0.819672131147541',\n",
              " '0.819672131147541',\n",
              " '0.8360655737704918',\n",
              " '0.8360655737704918',\n",
              " '0.8360655737704918',\n",
              " '0.8360655737704918',\n",
              " '0.8360655737704918',\n",
              " '0.8360655737704918',\n",
              " '0.8360655737704918',\n",
              " '0.8360655737704918',\n",
              " '0.8360655737704918',\n",
              " '0.8360655737704918',\n",
              " '0.8360655737704918',\n",
              " '0.8360655737704918',\n",
              " '0.8360655737704918',\n",
              " '0.8360655737704918',\n",
              " '0.8360655737704918',\n",
              " '0.8360655737704918',\n",
              " '0.8360655737704918',\n",
              " '0.8360655737704918',\n",
              " '0.819672131147541',\n",
              " '0.819672131147541',\n",
              " '0.819672131147541',\n",
              " '0.8360655737704918',\n",
              " '0.8360655737704918',\n",
              " '0.8524590163934426',\n",
              " '0.8524590163934426',\n",
              " '0.8688524590163934',\n",
              " '0.8524590163934426',\n",
              " '0.8360655737704918',\n",
              " '0.8360655737704918',\n",
              " '0.8360655737704918',\n",
              " '0.8524590163934426',\n",
              " '0.8524590163934426',\n",
              " '0.8524590163934426',\n",
              " '0.8524590163934426',\n",
              " '0.8524590163934426',\n",
              " '0.8524590163934426',\n",
              " '0.8688524590163934',\n",
              " '0.8524590163934426',\n",
              " '0.8524590163934426',\n",
              " '0.8524590163934426',\n",
              " '0.8524590163934426',\n",
              " '0.8524590163934426',\n",
              " '0.8524590163934426',\n",
              " '0.8524590163934426',\n",
              " '0.8688524590163934',\n",
              " '0.8524590163934426',\n",
              " '0.8688524590163934',\n",
              " '0.8524590163934426',\n",
              " '0.8524590163934426',\n",
              " '0.8524590163934426',\n",
              " '0.8524590163934426',\n",
              " '0.8524590163934426',\n",
              " '0.8688524590163934',\n",
              " '0.8524590163934426',\n",
              " '0.8524590163934426',\n",
              " '0.8524590163934426',\n",
              " '0.8524590163934426',\n",
              " '0.8524590163934426',\n",
              " '0.8524590163934426',\n",
              " '0.8524590163934426',\n",
              " '0.8524590163934426',\n",
              " '0.8524590163934426',\n",
              " '0.8688524590163934',\n",
              " '0.8524590163934426',\n",
              " '0.8524590163934426',\n",
              " '0.8524590163934426',\n",
              " '0.8524590163934426',\n",
              " '0.8524590163934426',\n",
              " '0.8524590163934426',\n",
              " '0.8524590163934426',\n",
              " '0.8688524590163934',\n",
              " '0.8688524590163934',\n",
              " '0.8688524590163934',\n",
              " '0.8524590163934426',\n",
              " '0.8688524590163934',\n",
              " '0.8688524590163934',\n",
              " '0.8688524590163934',\n",
              " '0.8524590163934426',\n",
              " '0.8688524590163934',\n",
              " '0.8524590163934426',\n",
              " '0.8688524590163934',\n",
              " '0.8688524590163934',\n",
              " '0.8688524590163934',\n",
              " '0.8688524590163934',\n",
              " '0.8688524590163934',\n",
              " '0.8688524590163934',\n",
              " '0.8688524590163934',\n",
              " '0.8688524590163934',\n",
              " '0.8688524590163934',\n",
              " '0.8688524590163934',\n",
              " '0.8688524590163934',\n",
              " '0.8688524590163934',\n",
              " '0.8688524590163934',\n",
              " '0.8688524590163934',\n",
              " '0.8688524590163934',\n",
              " '0.8688524590163934',\n",
              " '0.8688524590163934',\n",
              " '0.8688524590163934',\n",
              " '0.8688524590163934',\n",
              " '0.8688524590163934',\n",
              " '0.8688524590163934',\n",
              " '0.8688524590163934',\n",
              " '0.8688524590163934',\n",
              " '0.8688524590163934',\n",
              " '0.8688524590163934',\n",
              " '0.8688524590163934',\n",
              " '0.8688524590163934',\n",
              " '0.8688524590163934',\n",
              " '0.8688524590163934',\n",
              " '0.8688524590163934',\n",
              " '0.8688524590163934',\n",
              " '0.8688524590163934',\n",
              " '0.8688524590163934',\n",
              " '0.8688524590163934',\n",
              " '0.8688524590163934',\n",
              " '0.8688524590163934',\n",
              " '0.8688524590163934',\n",
              " '0.8688524590163934',\n",
              " '0.8688524590163934',\n",
              " '0.8688524590163934',\n",
              " '0.8688524590163934',\n",
              " '0.8524590163934426',\n",
              " '0.8524590163934426',\n",
              " '0.8360655737704918',\n",
              " '0.8524590163934426',\n",
              " '0.8524590163934426',\n",
              " '0.8688524590163934',\n",
              " '0.8524590163934426',\n",
              " '0.8524590163934426',\n",
              " '0.8524590163934426',\n",
              " '0.8524590163934426',\n",
              " '0.8360655737704918',\n",
              " '0.8524590163934426',\n",
              " '0.8360655737704918',\n",
              " '0.8524590163934426',\n",
              " '0.8360655737704918',\n",
              " '0.8524590163934426',\n",
              " '0.8524590163934426',\n",
              " '0.8688524590163934',\n",
              " '0.8688524590163934',\n",
              " '0.8688524590163934',\n",
              " '0.8688524590163934',\n",
              " '0.8688524590163934',\n",
              " '0.8688524590163934',\n",
              " '0.8688524590163934',\n",
              " '0.8688524590163934',\n",
              " '0.8524590163934426',\n",
              " '0.8688524590163934',\n",
              " '0.8524590163934426',\n",
              " '0.8360655737704918',\n",
              " '0.8360655737704918',\n",
              " '0.8360655737704918',\n",
              " '0.8524590163934426',\n",
              " '0.8524590163934426',\n",
              " '0.8524590163934426',\n",
              " '0.8524590163934426',\n",
              " '0.8524590163934426',\n",
              " '0.8524590163934426',\n",
              " '0.8524590163934426',\n",
              " '0.8524590163934426',\n",
              " '0.8524590163934426',\n",
              " '0.8524590163934426',\n",
              " '0.8524590163934426',\n",
              " '0.8524590163934426',\n",
              " '0.8524590163934426',\n",
              " '0.8524590163934426',\n",
              " '0.8524590163934426',\n",
              " '0.8524590163934426',\n",
              " '0.8524590163934426',\n",
              " '0.8524590163934426',\n",
              " '0.8524590163934426',\n",
              " '0.8524590163934426',\n",
              " '0.8524590163934426',\n",
              " '0.8524590163934426',\n",
              " '0.8524590163934426',\n",
              " '0.8360655737704918']"
            ]
          },
          "metadata": {},
          "execution_count": 43
        }
      ]
    }
  ]
}